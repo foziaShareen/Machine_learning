{
 "cells": [
  {
   "cell_type": "markdown",
   "metadata": {},
   "source": [
    "# Machine learning\n",
    "## simple linear regression \n",
    "-step1 load dataset\n",
    "-step2 split dataset\n",
    "\n",
    "\n",
    "\n",
    "\n",
    "\n",
    "\n",
    "\n"
   ]
  },
  {
   "cell_type": "code",
   "execution_count": 6,
   "metadata": {},
   "outputs": [],
   "source": [
    "import pandas as pd\n",
    "df=pd.read_csv('Salary_Age.csv')\n"
   ]
  },
  {
   "cell_type": "code",
   "execution_count": 7,
   "metadata": {},
   "outputs": [
    {
     "data": {
      "text/html": [
       "<div>\n",
       "<style scoped>\n",
       "    .dataframe tbody tr th:only-of-type {\n",
       "        vertical-align: middle;\n",
       "    }\n",
       "\n",
       "    .dataframe tbody tr th {\n",
       "        vertical-align: top;\n",
       "    }\n",
       "\n",
       "    .dataframe thead th {\n",
       "        text-align: right;\n",
       "    }\n",
       "</style>\n",
       "<table border=\"1\" class=\"dataframe\">\n",
       "  <thead>\n",
       "    <tr style=\"text-align: right;\">\n",
       "      <th></th>\n",
       "      <th>YearsExperience</th>\n",
       "      <th>Age</th>\n",
       "      <th>Salary</th>\n",
       "      <th>Gender</th>\n",
       "    </tr>\n",
       "  </thead>\n",
       "  <tbody>\n",
       "    <tr>\n",
       "      <th>0</th>\n",
       "      <td>1.1</td>\n",
       "      <td>21.0</td>\n",
       "      <td>39343</td>\n",
       "      <td>Male</td>\n",
       "    </tr>\n",
       "    <tr>\n",
       "      <th>1</th>\n",
       "      <td>1.3</td>\n",
       "      <td>21.5</td>\n",
       "      <td>46205</td>\n",
       "      <td>Male</td>\n",
       "    </tr>\n",
       "    <tr>\n",
       "      <th>2</th>\n",
       "      <td>1.5</td>\n",
       "      <td>21.7</td>\n",
       "      <td>37731</td>\n",
       "      <td>Male</td>\n",
       "    </tr>\n",
       "    <tr>\n",
       "      <th>3</th>\n",
       "      <td>2.0</td>\n",
       "      <td>22.0</td>\n",
       "      <td>43525</td>\n",
       "      <td>Male</td>\n",
       "    </tr>\n",
       "    <tr>\n",
       "      <th>4</th>\n",
       "      <td>2.2</td>\n",
       "      <td>22.2</td>\n",
       "      <td>39891</td>\n",
       "      <td>Male</td>\n",
       "    </tr>\n",
       "  </tbody>\n",
       "</table>\n",
       "</div>"
      ],
      "text/plain": [
       "   YearsExperience   Age  Salary Gender\n",
       "0              1.1  21.0   39343   Male\n",
       "1              1.3  21.5   46205   Male\n",
       "2              1.5  21.7   37731   Male\n",
       "3              2.0  22.0   43525   Male\n",
       "4              2.2  22.2   39891   Male"
      ]
     },
     "execution_count": 7,
     "metadata": {},
     "output_type": "execute_result"
    }
   ],
   "source": [
    "df.head()"
   ]
  },
  {
   "cell_type": "markdown",
   "metadata": {},
   "source": [
    "# splitting data set and training data and testing data\n"
   ]
  },
  {
   "cell_type": "code",
   "execution_count": 8,
   "metadata": {},
   "outputs": [],
   "source": [
    "x=df[['YearsExperience']]\n",
    "y=df[['Salary']]"
   ]
  },
  {
   "cell_type": "code",
   "execution_count": 9,
   "metadata": {},
   "outputs": [],
   "source": [
    "# import library\n",
    "\n",
    "from sklearn.model_selection import train_test_split\n",
    "x_train,x_test,y_train,y_test =train_test_split(x,y,test_size=0.2,random_state=0) \n",
    "\n"
   ]
  },
  {
   "cell_type": "code",
   "execution_count": 10,
   "metadata": {},
   "outputs": [
    {
     "data": {
      "text/html": [
       "<style>#sk-container-id-1 {color: black;background-color: white;}#sk-container-id-1 pre{padding: 0;}#sk-container-id-1 div.sk-toggleable {background-color: white;}#sk-container-id-1 label.sk-toggleable__label {cursor: pointer;display: block;width: 100%;margin-bottom: 0;padding: 0.3em;box-sizing: border-box;text-align: center;}#sk-container-id-1 label.sk-toggleable__label-arrow:before {content: \"▸\";float: left;margin-right: 0.25em;color: #696969;}#sk-container-id-1 label.sk-toggleable__label-arrow:hover:before {color: black;}#sk-container-id-1 div.sk-estimator:hover label.sk-toggleable__label-arrow:before {color: black;}#sk-container-id-1 div.sk-toggleable__content {max-height: 0;max-width: 0;overflow: hidden;text-align: left;background-color: #f0f8ff;}#sk-container-id-1 div.sk-toggleable__content pre {margin: 0.2em;color: black;border-radius: 0.25em;background-color: #f0f8ff;}#sk-container-id-1 input.sk-toggleable__control:checked~div.sk-toggleable__content {max-height: 200px;max-width: 100%;overflow: auto;}#sk-container-id-1 input.sk-toggleable__control:checked~label.sk-toggleable__label-arrow:before {content: \"▾\";}#sk-container-id-1 div.sk-estimator input.sk-toggleable__control:checked~label.sk-toggleable__label {background-color: #d4ebff;}#sk-container-id-1 div.sk-label input.sk-toggleable__control:checked~label.sk-toggleable__label {background-color: #d4ebff;}#sk-container-id-1 input.sk-hidden--visually {border: 0;clip: rect(1px 1px 1px 1px);clip: rect(1px, 1px, 1px, 1px);height: 1px;margin: -1px;overflow: hidden;padding: 0;position: absolute;width: 1px;}#sk-container-id-1 div.sk-estimator {font-family: monospace;background-color: #f0f8ff;border: 1px dotted black;border-radius: 0.25em;box-sizing: border-box;margin-bottom: 0.5em;}#sk-container-id-1 div.sk-estimator:hover {background-color: #d4ebff;}#sk-container-id-1 div.sk-parallel-item::after {content: \"\";width: 100%;border-bottom: 1px solid gray;flex-grow: 1;}#sk-container-id-1 div.sk-label:hover label.sk-toggleable__label {background-color: #d4ebff;}#sk-container-id-1 div.sk-serial::before {content: \"\";position: absolute;border-left: 1px solid gray;box-sizing: border-box;top: 0;bottom: 0;left: 50%;z-index: 0;}#sk-container-id-1 div.sk-serial {display: flex;flex-direction: column;align-items: center;background-color: white;padding-right: 0.2em;padding-left: 0.2em;position: relative;}#sk-container-id-1 div.sk-item {position: relative;z-index: 1;}#sk-container-id-1 div.sk-parallel {display: flex;align-items: stretch;justify-content: center;background-color: white;position: relative;}#sk-container-id-1 div.sk-item::before, #sk-container-id-1 div.sk-parallel-item::before {content: \"\";position: absolute;border-left: 1px solid gray;box-sizing: border-box;top: 0;bottom: 0;left: 50%;z-index: -1;}#sk-container-id-1 div.sk-parallel-item {display: flex;flex-direction: column;z-index: 1;position: relative;background-color: white;}#sk-container-id-1 div.sk-parallel-item:first-child::after {align-self: flex-end;width: 50%;}#sk-container-id-1 div.sk-parallel-item:last-child::after {align-self: flex-start;width: 50%;}#sk-container-id-1 div.sk-parallel-item:only-child::after {width: 0;}#sk-container-id-1 div.sk-dashed-wrapped {border: 1px dashed gray;margin: 0 0.4em 0.5em 0.4em;box-sizing: border-box;padding-bottom: 0.4em;background-color: white;}#sk-container-id-1 div.sk-label label {font-family: monospace;font-weight: bold;display: inline-block;line-height: 1.2em;}#sk-container-id-1 div.sk-label-container {text-align: center;}#sk-container-id-1 div.sk-container {/* jupyter's `normalize.less` sets `[hidden] { display: none; }` but bootstrap.min.css set `[hidden] { display: none !important; }` so we also need the `!important` here to be able to override the default hidden behavior on the sphinx rendered scikit-learn.org. See: https://github.com/scikit-learn/scikit-learn/issues/21755 */display: inline-block !important;position: relative;}#sk-container-id-1 div.sk-text-repr-fallback {display: none;}</style><div id=\"sk-container-id-1\" class=\"sk-top-container\"><div class=\"sk-text-repr-fallback\"><pre>LinearRegression()</pre><b>In a Jupyter environment, please rerun this cell to show the HTML representation or trust the notebook. <br />On GitHub, the HTML representation is unable to render, please try loading this page with nbviewer.org.</b></div><div class=\"sk-container\" hidden><div class=\"sk-item\"><div class=\"sk-estimator sk-toggleable\"><input class=\"sk-toggleable__control sk-hidden--visually\" id=\"sk-estimator-id-1\" type=\"checkbox\" checked><label for=\"sk-estimator-id-1\" class=\"sk-toggleable__label sk-toggleable__label-arrow\">LinearRegression</label><div class=\"sk-toggleable__content\"><pre>LinearRegression()</pre></div></div></div></div></div>"
      ],
      "text/plain": [
       "LinearRegression()"
      ]
     },
     "execution_count": 10,
     "metadata": {},
     "output_type": "execute_result"
    }
   ],
   "source": [
    "#step3 fit linear regression\n",
    "from sklearn.linear_model import LinearRegression\n",
    "model = LinearRegression().fit(x_train, y_train)\n",
    "model"
   ]
  },
  {
   "cell_type": "markdown",
   "metadata": {},
   "source": [
    "# step4 plotting"
   ]
  },
  {
   "cell_type": "code",
   "execution_count": 11,
   "metadata": {},
   "outputs": [
    {
     "data": {
      "image/png": "[encoded data removed]",
      "text/plain": [
       "<Figure size 432x288 with 1 Axes>"
      ]
     },
     "metadata": {
      "needs_background": "light"
     },
     "output_type": "display_data"
    }
   ],
   "source": [
    "import matplotlib.pyplot as plt\n",
    "plt.scatter(x_train,y_train)\n",
    "plt.plot(x_train,model.predict(x_train),color=\"red\")\n",
    "plt.xlabel(\"tajurba\")\n",
    "plt.ylabel(\"tankhaw\")\n",
    "plt.title(\"train plot\")\n",
    "plt.show()\n"
   ]
  },
  {
   "cell_type": "code",
   "execution_count": 12,
   "metadata": {},
   "outputs": [
    {
     "data": {
      "image/png": "[encoded data removed]",
      "text/plain": [
       "<Figure size 432x288 with 1 Axes>"
      ]
     },
     "metadata": {
      "needs_background": "light"
     },
     "output_type": "display_data"
    }
   ],
   "source": [
    "import matplotlib.pyplot as plt\n",
    "plt.scatter(x_test, y_test)\n",
    "plt.plot(x_test, model.predict(x_test), color=\"red\")\n",
    "plt.xlabel(\"tajurba\")\n",
    "plt.ylabel(\"tankhaw\")\n",
    "plt.title(\"test plot\")\n",
    "plt.show()\n"
   ]
  },
  {
   "cell_type": "code",
   "execution_count": 13,
   "metadata": {},
   "outputs": [
    {
     "data": {
      "text/plain": [
       "0.988169515729126"
      ]
     },
     "execution_count": 13,
     "metadata": {},
     "output_type": "execute_result"
    }
   ],
   "source": [
    "# model fitness\n",
    "model.score(x_test,y_test)\n"
   ]
  },
  {
   "cell_type": "code",
   "execution_count": 14,
   "metadata": {},
   "outputs": [
    {
     "data": {
      "text/plain": [
       "0.9411949620562126"
      ]
     },
     "execution_count": 14,
     "metadata": {},
     "output_type": "execute_result"
    }
   ],
   "source": [
    "model.score(x_train,y_train)"
   ]
  },
  {
   "cell_type": "markdown",
   "metadata": {},
   "source": [
    "# prediction of unknown values\n"
   ]
  },
  {
   "cell_type": "code",
   "execution_count": 15,
   "metadata": {},
   "outputs": [
    {
     "name": "stderr",
     "output_type": "stream",
     "text": [
      "C:\\Users\\Bs Com\\AppData\\Roaming\\Python\\Python310\\site-packages\\sklearn\\base.py:450: UserWarning: X does not have valid feature names, but LinearRegression was fitted with feature names\n",
      "  warnings.warn(\n"
     ]
    },
    {
     "data": {
      "text/plain": [
       "array([[73342.97478427],\n",
       "       [91968.12503773],\n",
       "       [64030.39965754]])"
      ]
     },
     "execution_count": 15,
     "metadata": {},
     "output_type": "execute_result"
    }
   ],
   "source": [
    "model.predict([[5],[7],[4]])"
   ]
  },
  {
   "cell_type": "markdown",
   "metadata": {},
   "source": [
    "## Multiple linear regression "
   ]
  },
  {
   "cell_type": "code",
   "execution_count": 16,
   "metadata": {},
   "outputs": [],
   "source": [
    "import pandas as pd\n",
    "import numpy as np\n",
    "from sklearn.linear_model import LinearRegression"
   ]
  },
  {
   "cell_type": "code",
   "execution_count": 17,
   "metadata": {},
   "outputs": [
    {
     "data": {
      "text/html": [
       "<div>\n",
       "<style scoped>\n",
       "    .dataframe tbody tr th:only-of-type {\n",
       "        vertical-align: middle;\n",
       "    }\n",
       "\n",
       "    .dataframe tbody tr th {\n",
       "        vertical-align: top;\n",
       "    }\n",
       "\n",
       "    .dataframe thead th {\n",
       "        text-align: right;\n",
       "    }\n",
       "</style>\n",
       "<table border=\"1\" class=\"dataframe\">\n",
       "  <thead>\n",
       "    <tr style=\"text-align: right;\">\n",
       "      <th></th>\n",
       "      <th>YearsExperience</th>\n",
       "      <th>Age</th>\n",
       "      <th>Salary</th>\n",
       "      <th>Gender</th>\n",
       "    </tr>\n",
       "  </thead>\n",
       "  <tbody>\n",
       "    <tr>\n",
       "      <th>0</th>\n",
       "      <td>1.1</td>\n",
       "      <td>21.0</td>\n",
       "      <td>39343</td>\n",
       "      <td>Male</td>\n",
       "    </tr>\n",
       "    <tr>\n",
       "      <th>1</th>\n",
       "      <td>1.3</td>\n",
       "      <td>21.5</td>\n",
       "      <td>46205</td>\n",
       "      <td>Male</td>\n",
       "    </tr>\n",
       "    <tr>\n",
       "      <th>2</th>\n",
       "      <td>1.5</td>\n",
       "      <td>21.7</td>\n",
       "      <td>37731</td>\n",
       "      <td>Male</td>\n",
       "    </tr>\n",
       "    <tr>\n",
       "      <th>3</th>\n",
       "      <td>2.0</td>\n",
       "      <td>22.0</td>\n",
       "      <td>43525</td>\n",
       "      <td>Male</td>\n",
       "    </tr>\n",
       "    <tr>\n",
       "      <th>4</th>\n",
       "      <td>2.2</td>\n",
       "      <td>22.2</td>\n",
       "      <td>39891</td>\n",
       "      <td>Male</td>\n",
       "    </tr>\n",
       "  </tbody>\n",
       "</table>\n",
       "</div>"
      ],
      "text/plain": [
       "   YearsExperience   Age  Salary Gender\n",
       "0              1.1  21.0   39343   Male\n",
       "1              1.3  21.5   46205   Male\n",
       "2              1.5  21.7   37731   Male\n",
       "3              2.0  22.0   43525   Male\n",
       "4              2.2  22.2   39891   Male"
      ]
     },
     "execution_count": 17,
     "metadata": {},
     "output_type": "execute_result"
    }
   ],
   "source": [
    "#import data \n",
    "df=pd.read_csv('Salary_Age.csv')\n",
    "df.head()"
   ]
  },
  {
   "cell_type": "code",
   "execution_count": 18,
   "metadata": {},
   "outputs": [],
   "source": [
    "x=df[['Age','YearsExperience']]\n",
    "y=df['Salary']\n",
    "\n"
   ]
  },
  {
   "cell_type": "code",
   "execution_count": 19,
   "metadata": {},
   "outputs": [
    {
     "data": {
      "text/plain": [
       "array([26780.09915063])"
      ]
     },
     "execution_count": 19,
     "metadata": {},
     "output_type": "execute_result"
    }
   ],
   "source": [
    "model.intercept_"
   ]
  },
  {
   "cell_type": "code",
   "execution_count": 20,
   "metadata": {},
   "outputs": [],
   "source": [
    "# model.predict([[100,200]])"
   ]
  },
  {
   "cell_type": "code",
   "execution_count": 21,
   "metadata": {},
   "outputs": [
    {
     "data": {
      "text/html": [
       "<div>\n",
       "<style scoped>\n",
       "    .dataframe tbody tr th:only-of-type {\n",
       "        vertical-align: middle;\n",
       "    }\n",
       "\n",
       "    .dataframe tbody tr th {\n",
       "        vertical-align: top;\n",
       "    }\n",
       "\n",
       "    .dataframe thead th {\n",
       "        text-align: right;\n",
       "    }\n",
       "</style>\n",
       "<table border=\"1\" class=\"dataframe\">\n",
       "  <thead>\n",
       "    <tr style=\"text-align: right;\">\n",
       "      <th></th>\n",
       "      <th>YearsExperience</th>\n",
       "      <th>Age</th>\n",
       "      <th>Salary</th>\n",
       "      <th>Gender</th>\n",
       "    </tr>\n",
       "  </thead>\n",
       "  <tbody>\n",
       "    <tr>\n",
       "      <th>0</th>\n",
       "      <td>1.1</td>\n",
       "      <td>21.0</td>\n",
       "      <td>39343</td>\n",
       "      <td>1</td>\n",
       "    </tr>\n",
       "    <tr>\n",
       "      <th>1</th>\n",
       "      <td>1.3</td>\n",
       "      <td>21.5</td>\n",
       "      <td>46205</td>\n",
       "      <td>1</td>\n",
       "    </tr>\n",
       "    <tr>\n",
       "      <th>2</th>\n",
       "      <td>1.5</td>\n",
       "      <td>21.7</td>\n",
       "      <td>37731</td>\n",
       "      <td>1</td>\n",
       "    </tr>\n",
       "    <tr>\n",
       "      <th>3</th>\n",
       "      <td>2.0</td>\n",
       "      <td>22.0</td>\n",
       "      <td>43525</td>\n",
       "      <td>1</td>\n",
       "    </tr>\n",
       "    <tr>\n",
       "      <th>4</th>\n",
       "      <td>2.2</td>\n",
       "      <td>22.2</td>\n",
       "      <td>39891</td>\n",
       "      <td>1</td>\n",
       "    </tr>\n",
       "    <tr>\n",
       "      <th>5</th>\n",
       "      <td>2.9</td>\n",
       "      <td>23.0</td>\n",
       "      <td>56642</td>\n",
       "      <td>1</td>\n",
       "    </tr>\n",
       "    <tr>\n",
       "      <th>6</th>\n",
       "      <td>3.0</td>\n",
       "      <td>23.0</td>\n",
       "      <td>60150</td>\n",
       "      <td>1</td>\n",
       "    </tr>\n",
       "    <tr>\n",
       "      <th>7</th>\n",
       "      <td>3.2</td>\n",
       "      <td>23.3</td>\n",
       "      <td>54445</td>\n",
       "      <td>1</td>\n",
       "    </tr>\n",
       "    <tr>\n",
       "      <th>8</th>\n",
       "      <td>3.2</td>\n",
       "      <td>23.3</td>\n",
       "      <td>64445</td>\n",
       "      <td>1</td>\n",
       "    </tr>\n",
       "    <tr>\n",
       "      <th>9</th>\n",
       "      <td>3.7</td>\n",
       "      <td>23.6</td>\n",
       "      <td>57189</td>\n",
       "      <td>1</td>\n",
       "    </tr>\n",
       "    <tr>\n",
       "      <th>10</th>\n",
       "      <td>3.9</td>\n",
       "      <td>23.9</td>\n",
       "      <td>63218</td>\n",
       "      <td>1</td>\n",
       "    </tr>\n",
       "    <tr>\n",
       "      <th>11</th>\n",
       "      <td>4.0</td>\n",
       "      <td>24.0</td>\n",
       "      <td>55794</td>\n",
       "      <td>1</td>\n",
       "    </tr>\n",
       "    <tr>\n",
       "      <th>12</th>\n",
       "      <td>4.0</td>\n",
       "      <td>24.0</td>\n",
       "      <td>56957</td>\n",
       "      <td>1</td>\n",
       "    </tr>\n",
       "    <tr>\n",
       "      <th>13</th>\n",
       "      <td>4.1</td>\n",
       "      <td>24.0</td>\n",
       "      <td>57081</td>\n",
       "      <td>0</td>\n",
       "    </tr>\n",
       "    <tr>\n",
       "      <th>14</th>\n",
       "      <td>4.5</td>\n",
       "      <td>25.0</td>\n",
       "      <td>61111</td>\n",
       "      <td>0</td>\n",
       "    </tr>\n",
       "    <tr>\n",
       "      <th>15</th>\n",
       "      <td>4.9</td>\n",
       "      <td>25.0</td>\n",
       "      <td>67938</td>\n",
       "      <td>0</td>\n",
       "    </tr>\n",
       "    <tr>\n",
       "      <th>16</th>\n",
       "      <td>5.1</td>\n",
       "      <td>26.0</td>\n",
       "      <td>66029</td>\n",
       "      <td>0</td>\n",
       "    </tr>\n",
       "    <tr>\n",
       "      <th>17</th>\n",
       "      <td>5.3</td>\n",
       "      <td>27.0</td>\n",
       "      <td>83088</td>\n",
       "      <td>0</td>\n",
       "    </tr>\n",
       "    <tr>\n",
       "      <th>18</th>\n",
       "      <td>5.9</td>\n",
       "      <td>28.0</td>\n",
       "      <td>81363</td>\n",
       "      <td>0</td>\n",
       "    </tr>\n",
       "    <tr>\n",
       "      <th>19</th>\n",
       "      <td>6.0</td>\n",
       "      <td>29.0</td>\n",
       "      <td>93940</td>\n",
       "      <td>0</td>\n",
       "    </tr>\n",
       "    <tr>\n",
       "      <th>20</th>\n",
       "      <td>6.8</td>\n",
       "      <td>30.0</td>\n",
       "      <td>91738</td>\n",
       "      <td>0</td>\n",
       "    </tr>\n",
       "    <tr>\n",
       "      <th>21</th>\n",
       "      <td>7.1</td>\n",
       "      <td>30.0</td>\n",
       "      <td>98273</td>\n",
       "      <td>0</td>\n",
       "    </tr>\n",
       "    <tr>\n",
       "      <th>22</th>\n",
       "      <td>7.9</td>\n",
       "      <td>31.0</td>\n",
       "      <td>101302</td>\n",
       "      <td>0</td>\n",
       "    </tr>\n",
       "    <tr>\n",
       "      <th>23</th>\n",
       "      <td>8.2</td>\n",
       "      <td>32.0</td>\n",
       "      <td>113812</td>\n",
       "      <td>0</td>\n",
       "    </tr>\n",
       "    <tr>\n",
       "      <th>24</th>\n",
       "      <td>8.7</td>\n",
       "      <td>33.0</td>\n",
       "      <td>109431</td>\n",
       "      <td>0</td>\n",
       "    </tr>\n",
       "    <tr>\n",
       "      <th>25</th>\n",
       "      <td>9.0</td>\n",
       "      <td>34.0</td>\n",
       "      <td>105582</td>\n",
       "      <td>0</td>\n",
       "    </tr>\n",
       "    <tr>\n",
       "      <th>26</th>\n",
       "      <td>9.5</td>\n",
       "      <td>35.0</td>\n",
       "      <td>116969</td>\n",
       "      <td>0</td>\n",
       "    </tr>\n",
       "    <tr>\n",
       "      <th>27</th>\n",
       "      <td>9.6</td>\n",
       "      <td>36.0</td>\n",
       "      <td>112635</td>\n",
       "      <td>0</td>\n",
       "    </tr>\n",
       "    <tr>\n",
       "      <th>28</th>\n",
       "      <td>10.3</td>\n",
       "      <td>37.0</td>\n",
       "      <td>122391</td>\n",
       "      <td>0</td>\n",
       "    </tr>\n",
       "    <tr>\n",
       "      <th>29</th>\n",
       "      <td>10.5</td>\n",
       "      <td>38.0</td>\n",
       "      <td>121872</td>\n",
       "      <td>0</td>\n",
       "    </tr>\n",
       "  </tbody>\n",
       "</table>\n",
       "</div>"
      ],
      "text/plain": [
       "    YearsExperience   Age  Salary  Gender\n",
       "0               1.1  21.0   39343       1\n",
       "1               1.3  21.5   46205       1\n",
       "2               1.5  21.7   37731       1\n",
       "3               2.0  22.0   43525       1\n",
       "4               2.2  22.2   39891       1\n",
       "5               2.9  23.0   56642       1\n",
       "6               3.0  23.0   60150       1\n",
       "7               3.2  23.3   54445       1\n",
       "8               3.2  23.3   64445       1\n",
       "9               3.7  23.6   57189       1\n",
       "10              3.9  23.9   63218       1\n",
       "11              4.0  24.0   55794       1\n",
       "12              4.0  24.0   56957       1\n",
       "13              4.1  24.0   57081       0\n",
       "14              4.5  25.0   61111       0\n",
       "15              4.9  25.0   67938       0\n",
       "16              5.1  26.0   66029       0\n",
       "17              5.3  27.0   83088       0\n",
       "18              5.9  28.0   81363       0\n",
       "19              6.0  29.0   93940       0\n",
       "20              6.8  30.0   91738       0\n",
       "21              7.1  30.0   98273       0\n",
       "22              7.9  31.0  101302       0\n",
       "23              8.2  32.0  113812       0\n",
       "24              8.7  33.0  109431       0\n",
       "25              9.0  34.0  105582       0\n",
       "26              9.5  35.0  116969       0\n",
       "27              9.6  36.0  112635       0\n",
       "28             10.3  37.0  122391       0\n",
       "29             10.5  38.0  121872       0"
      ]
     },
     "execution_count": 21,
     "metadata": {},
     "output_type": "execute_result"
    }
   ],
   "source": [
    "df['Gender']=df['Gender'].replace(\"Male\",1)\n",
    "df['Gender']=df['Gender'].replace(\"Female\",0)\n",
    "df"
   ]
  },
  {
   "cell_type": "code",
   "execution_count": 22,
   "metadata": {},
   "outputs": [],
   "source": [
    " x=df[['Age','Gender']]\n",
    " y=df[\"Salary\"]"
   ]
  },
  {
   "cell_type": "code",
   "execution_count": 23,
   "metadata": {},
   "outputs": [
    {
     "data": {
      "text/html": [
       "<div>\n",
       "<style scoped>\n",
       "    .dataframe tbody tr th:only-of-type {\n",
       "        vertical-align: middle;\n",
       "    }\n",
       "\n",
       "    .dataframe tbody tr th {\n",
       "        vertical-align: top;\n",
       "    }\n",
       "\n",
       "    .dataframe thead th {\n",
       "        text-align: right;\n",
       "    }\n",
       "</style>\n",
       "<table border=\"1\" class=\"dataframe\">\n",
       "  <thead>\n",
       "    <tr style=\"text-align: right;\">\n",
       "      <th></th>\n",
       "      <th>Age</th>\n",
       "      <th>Gender</th>\n",
       "    </tr>\n",
       "  </thead>\n",
       "  <tbody>\n",
       "    <tr>\n",
       "      <th>0</th>\n",
       "      <td>21.0</td>\n",
       "      <td>1</td>\n",
       "    </tr>\n",
       "    <tr>\n",
       "      <th>1</th>\n",
       "      <td>21.5</td>\n",
       "      <td>1</td>\n",
       "    </tr>\n",
       "    <tr>\n",
       "      <th>2</th>\n",
       "      <td>21.7</td>\n",
       "      <td>1</td>\n",
       "    </tr>\n",
       "    <tr>\n",
       "      <th>3</th>\n",
       "      <td>22.0</td>\n",
       "      <td>1</td>\n",
       "    </tr>\n",
       "    <tr>\n",
       "      <th>4</th>\n",
       "      <td>22.2</td>\n",
       "      <td>1</td>\n",
       "    </tr>\n",
       "  </tbody>\n",
       "</table>\n",
       "</div>"
      ],
      "text/plain": [
       "    Age  Gender\n",
       "0  21.0       1\n",
       "1  21.5       1\n",
       "2  21.7       1\n",
       "3  22.0       1\n",
       "4  22.2       1"
      ]
     },
     "execution_count": 23,
     "metadata": {},
     "output_type": "execute_result"
    }
   ],
   "source": [
    "x.head()"
   ]
  },
  {
   "cell_type": "code",
   "execution_count": 24,
   "metadata": {},
   "outputs": [
    {
     "data": {
      "text/plain": [
       "0    39343\n",
       "1    46205\n",
       "2    37731\n",
       "3    43525\n",
       "4    39891\n",
       "Name: Salary, dtype: int64"
      ]
     },
     "execution_count": 24,
     "metadata": {},
     "output_type": "execute_result"
    }
   ],
   "source": [
    "y.head()"
   ]
  },
  {
   "cell_type": "code",
   "execution_count": 25,
   "metadata": {},
   "outputs": [
    {
     "name": "stderr",
     "output_type": "stream",
     "text": [
      "C:\\Users\\Bs Com\\AppData\\Roaming\\Python\\Python310\\site-packages\\sklearn\\base.py:450: UserWarning: X does not have valid feature names, but DecisionTreeClassifier was fitted with feature names\n",
      "  warnings.warn(\n"
     ]
    },
    {
     "data": {
      "text/plain": [
       "array([39343], dtype=int64)"
      ]
     },
     "execution_count": 25,
     "metadata": {},
     "output_type": "execute_result"
    }
   ],
   "source": [
    "from sklearn.tree import DecisionTreeClassifier\n",
    "model = DecisionTreeClassifier().fit(x,y)\n",
    "model.predict([[0,1]])"
   ]
  },
  {
   "cell_type": "code",
   "execution_count": 26,
   "metadata": {},
   "outputs": [
    {
     "name": "stdout",
     "output_type": "stream",
     "text": [
      "The accuracy of data is: 0.6666666666666666\n"
     ]
    }
   ],
   "source": [
    "from sklearn.tree import DecisionTreeClassifier\n",
    "from sklearn.model_selection import train_test_split\n",
    "from sklearn.metrics import accuracy_score\n",
    "x = df[['Age']]\n",
    "y = df[['Salary']]\n",
    "model = DecisionTreeClassifier().fit(x, y)\n",
    "x_train,x_test,y_train,y_test=train_test_split(x,y,test_size=0.2)\n",
    "predicted_score=model.predict(x_test)\n",
    "predicted_score\n",
    "a=accuracy_score(y_test,predicted_score)\n",
    "print('The accuracy of data is:',a)\n"
   ]
  },
  {
   "cell_type": "code",
   "execution_count": 27,
   "metadata": {},
   "outputs": [
    {
     "data": {
      "image/svg+xml": "<?xml version=\"1.0\" encoding=\"UTF-8\" standalone=\"no\"?>\n<!DOCTYPE svg PUBLIC \"-//W3C//DTD SVG 1.1//EN\"\n \"http://www.w3.org/Graphics/SVG/1.1/DTD/svg11.dtd\">\n<!-- Generated by graphviz version 5.0.1 (20220820.1526)\n -->\n<!-- Title: the holy hand grenade Pages: 1 -->\n<svg width=\"332pt\" height=\"44pt\"\n viewBox=\"0.00 0.00 332.00 44.00\" xmlns=\"http://www.w3.org/2000/svg\" xmlns:xlink=\"http://www.w3.org/1999/xlink\">\n<g id=\"graph0\" class=\"graph\" transform=\"scale(1 1) rotate(0) translate(4 40)\">\n<title>the holy hand grenade</title>\n<polygon fill=\"white\" stroke=\"none\" points=\"-4,4 -4,-40 328,-40 328,4 -4,4\"/>\n<!-- 1 -->\n<g id=\"node1\" class=\"node\">\n<title>1</title>\n<ellipse fill=\"none\" stroke=\"black\" cx=\"27\" cy=\"-18\" rx=\"27\" ry=\"18\"/>\n<text text-anchor=\"middle\" x=\"27\" y=\"-14.3\" font-family=\"Times New Roman,serif\" font-size=\"14.00\">1</text>\n</g>\n<!-- 2 -->\n<g id=\"node2\" class=\"node\">\n<title>2</title>\n<ellipse fill=\"none\" stroke=\"black\" cx=\"117\" cy=\"-18\" rx=\"27\" ry=\"18\"/>\n<text text-anchor=\"middle\" x=\"117\" y=\"-14.3\" font-family=\"Times New Roman,serif\" font-size=\"14.00\">2</text>\n</g>\n<!-- 1&#45;&gt;2 -->\n<g id=\"edge1\" class=\"edge\">\n<title>1&#45;&gt;2</title>\n<path fill=\"none\" stroke=\"black\" d=\"M54.4,-18C62.39,-18 71.31,-18 79.82,-18\"/>\n<polygon fill=\"black\" stroke=\"black\" points=\"79.92,-21.5 89.92,-18 79.92,-14.5 79.92,-21.5\"/>\n</g>\n<!-- 3 -->\n<g id=\"node3\" class=\"node\">\n<title>3</title>\n<ellipse fill=\"none\" stroke=\"black\" cx=\"207\" cy=\"-18\" rx=\"27\" ry=\"18\"/>\n<text text-anchor=\"middle\" x=\"207\" y=\"-14.3\" font-family=\"Times New Roman,serif\" font-size=\"14.00\">3</text>\n</g>\n<!-- 2&#45;&gt;3 -->\n<g id=\"edge2\" class=\"edge\">\n<title>2&#45;&gt;3</title>\n<path fill=\"none\" stroke=\"black\" d=\"M144.4,-18C152.39,-18 161.31,-18 169.82,-18\"/>\n<polygon fill=\"black\" stroke=\"black\" points=\"169.92,-21.5 179.92,-18 169.92,-14.5 169.92,-21.5\"/>\n</g>\n<!-- lob -->\n<g id=\"node4\" class=\"node\">\n<title>lob</title>\n<ellipse fill=\"none\" stroke=\"black\" cx=\"297\" cy=\"-18\" rx=\"27\" ry=\"18\"/>\n<text text-anchor=\"middle\" x=\"297\" y=\"-14.3\" font-family=\"Times New Roman,serif\" font-size=\"14.00\">lob</text>\n</g>\n<!-- 3&#45;&gt;lob -->\n<g id=\"edge3\" class=\"edge\">\n<title>3&#45;&gt;lob</title>\n<path fill=\"none\" stroke=\"black\" d=\"M234.4,-18C242.39,-18 251.31,-18 259.82,-18\"/>\n<polygon fill=\"black\" stroke=\"black\" points=\"259.92,-21.5 269.92,-18 259.92,-14.5 259.92,-21.5\"/>\n</g>\n</g>\n</svg>\n",
      "text/plain": [
       "<graphviz.sources.Source at 0x1e0cc8bb490>"
      ]
     },
     "execution_count": 27,
     "metadata": {},
     "output_type": "execute_result"
    }
   ],
   "source": [
    "from graphviz import Source\n",
    "\n",
    "src = Source(\n",
    "    'digraph \"the holy hand grenade\" { rankdir=LR; 1 -> 2 -> 3 -> lob }')\n",
    "src\n"
   ]
  },
  {
   "cell_type": "code",
   "execution_count": 28,
   "metadata": {},
   "outputs": [
    {
     "data": {
      "image/svg+xml": "<?xml version=\"1.0\" encoding=\"UTF-8\" standalone=\"no\"?>\n<!DOCTYPE svg PUBLIC \"-//W3C//DTD SVG 1.1//EN\"\n \"http://www.w3.org/Graphics/SVG/1.1/DTD/svg11.dtd\">\n<!-- Generated by graphviz version 5.0.1 (20220820.1526)\n -->\n<!-- Title: G Pages: 1 -->\n<svg width=\"74pt\" height=\"116pt\"\n viewBox=\"0.00 0.00 74.29 116.00\" xmlns=\"http://www.w3.org/2000/svg\" xmlns:xlink=\"http://www.w3.org/1999/xlink\">\n<g id=\"graph0\" class=\"graph\" transform=\"scale(1 1) rotate(0) translate(4 112)\">\n<title>G</title>\n<polygon fill=\"white\" stroke=\"none\" points=\"-4,4 -4,-112 70.29,-112 70.29,4 -4,4\"/>\n<!-- Age -->\n<g id=\"node1\" class=\"node\">\n<title>Age</title>\n<ellipse fill=\"none\" stroke=\"black\" cx=\"33.15\" cy=\"-90\" rx=\"27\" ry=\"18\"/>\n<text text-anchor=\"middle\" x=\"33.15\" y=\"-86.3\" font-family=\"Times New Roman,serif\" font-size=\"14.00\">Age</text>\n</g>\n<!-- Salary -->\n<g id=\"node2\" class=\"node\">\n<title>Salary</title>\n<ellipse fill=\"none\" stroke=\"black\" cx=\"33.15\" cy=\"-18\" rx=\"33.29\" ry=\"18\"/>\n<text text-anchor=\"middle\" x=\"33.15\" y=\"-14.3\" font-family=\"Times New Roman,serif\" font-size=\"14.00\">Salary</text>\n</g>\n<!-- Age&#45;&gt;Salary -->\n<g id=\"edge1\" class=\"edge\">\n<title>Age&#45;&gt;Salary</title>\n<path fill=\"none\" stroke=\"black\" d=\"M33.15,-71.7C33.15,-63.98 33.15,-54.71 33.15,-46.11\"/>\n<polygon fill=\"black\" stroke=\"black\" points=\"36.65,-46.1 33.15,-36.1 29.65,-46.1 36.65,-46.1\"/>\n</g>\n</g>\n</svg>\n",
      "text/plain": [
       "<graphviz.graphs.Digraph at 0x1e0e0c2fe50>"
      ]
     },
     "execution_count": 28,
     "metadata": {},
     "output_type": "execute_result"
    }
   ],
   "source": [
    "from graphviz import Digraph\n",
    "\n",
    "g = Digraph('G', filename='hello.gv')\n",
    "\n",
    "g.edge('Age', 'Salary')\n",
    "\n",
    "g\n"
   ]
  },
  {
   "cell_type": "code",
   "execution_count": 29,
   "metadata": {},
   "outputs": [
    {
     "data": {
      "image/svg+xml": "<?xml version=\"1.0\" encoding=\"UTF-8\" standalone=\"no\"?>\n<!DOCTYPE svg PUBLIC \"-//W3C//DTD SVG 1.1//EN\"\n \"http://www.w3.org/Graphics/SVG/1.1/DTD/svg11.dtd\">\n<!-- Generated by graphviz version 5.0.1 (20220820.1526)\n -->\n<!-- Title: G Pages: 1 -->\n<svg width=\"851pt\" height=\"257pt\"\n viewBox=\"0.00 0.00 851.00 256.89\" xmlns=\"http://www.w3.org/2000/svg\" xmlns:xlink=\"http://www.w3.org/1999/xlink\">\n<g id=\"graph0\" class=\"graph\" transform=\"scale(1 1) rotate(0) translate(4 252.89)\">\n<title>G</title>\n<polygon fill=\"blue\" stroke=\"none\" points=\"-4,4 -4,-252.89 847,-252.89 847,4 -4,4\"/>\n<g id=\"clust1\" class=\"cluster\">\n<title>cluster_1</title>\n<polygon fill=\"blue\" stroke=\"black\" points=\"46,-132.99 46,-240.89 794,-240.89 794,-132.99 46,-132.99\"/>\n<text text-anchor=\"middle\" x=\"420\" y=\"-225.69\" font-family=\"Times New Roman,serif\" font-size=\"14.00\" fill=\"white\">Linear Angle Variations (white to black gradient)</text>\n</g>\n<g id=\"clust2\" class=\"cluster\">\n<title>cluster_2</title>\n<polygon fill=\"blue\" stroke=\"black\" points=\"8,-8 8,-124.99 835,-124.99 835,-8 8,-8\"/>\n<text text-anchor=\"middle\" x=\"421.5\" y=\"-109.79\" font-family=\"Times New Roman,serif\" font-size=\"14.00\" fill=\"white\">Radial Angle Variations (white to black gradient)</text>\n</g>\n<!-- n9 -->\n<g id=\"node1\" class=\"node\">\n<title>n9</title>\n<defs>\n<linearGradient id=\"l_0\" gradientUnits=\"userSpaceOnUse\" x1=\"717.61\" y1=\"-175.44\" x2=\"786.39\" y2=\"-175.44\" >\n<stop offset=\"0\" style=\"stop-color:white;stop-opacity:1.;\"/>\n<stop offset=\"1\" style=\"stop-color:black;stop-opacity:1.;\"/>\n</linearGradient>\n</defs>\n<ellipse fill=\"url(#l_0)\" stroke=\"black\" cx=\"752\" cy=\"-175.44\" rx=\"34.39\" ry=\"34.39\"/>\n<text text-anchor=\"middle\" x=\"752\" y=\"-171.74\" font-family=\"Times New Roman,serif\" font-size=\"14.00\">n9:360</text>\n</g>\n<!-- n8 -->\n<g id=\"node2\" class=\"node\">\n<title>n8</title>\n<defs>\n<linearGradient id=\"l_1\" gradientUnits=\"userSpaceOnUse\" x1=\"640.68\" y1=\"-199.76\" x2=\"689.32\" y2=\"-151.12\" >\n<stop offset=\"0\" style=\"stop-color:white;stop-opacity:1.;\"/>\n<stop offset=\"1\" style=\"stop-color:black;stop-opacity:1.;\"/>\n</linearGradient>\n</defs>\n<ellipse fill=\"url(#l_1)\" stroke=\"black\" cx=\"665\" cy=\"-175.44\" rx=\"34.39\" ry=\"34.39\"/>\n<text text-anchor=\"middle\" x=\"665\" y=\"-171.74\" font-family=\"Times New Roman,serif\" font-size=\"14.00\">n8:315</text>\n</g>\n<!-- n7 -->\n<g id=\"node3\" class=\"node\">\n<title>n7</title>\n<defs>\n<linearGradient id=\"l_2\" gradientUnits=\"userSpaceOnUse\" x1=\"578\" y1=\"-209.83\" x2=\"578\" y2=\"-141.05\" >\n<stop offset=\"0\" style=\"stop-color:white;stop-opacity:1.;\"/>\n<stop offset=\"1\" style=\"stop-color:black;stop-opacity:1.;\"/>\n</linearGradient>\n</defs>\n<ellipse fill=\"url(#l_2)\" stroke=\"black\" cx=\"578\" cy=\"-175.44\" rx=\"34.39\" ry=\"34.39\"/>\n<text text-anchor=\"middle\" x=\"578\" y=\"-171.74\" font-family=\"Times New Roman,serif\" font-size=\"14.00\">n7:270</text>\n</g>\n<!-- n6 -->\n<g id=\"node4\" class=\"node\">\n<title>n6</title>\n<defs>\n<linearGradient id=\"l_3\" gradientUnits=\"userSpaceOnUse\" x1=\"515.32\" y1=\"-199.76\" x2=\"466.68\" y2=\"-151.12\" >\n<stop offset=\"0\" style=\"stop-color:white;stop-opacity:1.;\"/>\n<stop offset=\"1\" style=\"stop-color:black;stop-opacity:1.;\"/>\n</linearGradient>\n</defs>\n<ellipse fill=\"url(#l_3)\" stroke=\"black\" cx=\"491\" cy=\"-175.44\" rx=\"34.39\" ry=\"34.39\"/>\n<text text-anchor=\"middle\" x=\"491\" y=\"-171.74\" font-family=\"Times New Roman,serif\" font-size=\"14.00\">n6:225</text>\n</g>\n<!-- n5 -->\n<g id=\"node5\" class=\"node\">\n<title>n5</title>\n<defs>\n<linearGradient id=\"l_4\" gradientUnits=\"userSpaceOnUse\" x1=\"438.39\" y1=\"-175.44\" x2=\"369.61\" y2=\"-175.44\" >\n<stop offset=\"0\" style=\"stop-color:white;stop-opacity:1.;\"/>\n<stop offset=\"1\" style=\"stop-color:black;stop-opacity:1.;\"/>\n</linearGradient>\n</defs>\n<ellipse fill=\"url(#l_4)\" stroke=\"black\" cx=\"404\" cy=\"-175.44\" rx=\"34.39\" ry=\"34.39\"/>\n<text text-anchor=\"middle\" x=\"404\" y=\"-171.74\" font-family=\"Times New Roman,serif\" font-size=\"14.00\">n5:180</text>\n</g>\n<!-- n14 -->\n<g id=\"node14\" class=\"node\">\n<title>n14</title>\n<defs>\n<radialGradient id=\"r_0\" cx=\"50%\" cy=\"50%\" r=\"75%\" fx=\"0%\" fy=\"50%\">\n<stop offset=\"0\" style=\"stop-color:white;stop-opacity:1.;\"/>\n<stop offset=\"1\" style=\"stop-color:black;stop-opacity:1.;\"/>\n</radialGradient>\n</defs>\n<ellipse fill=\"url(#r_0)\" stroke=\"black\" cx=\"404\" cy=\"-55\" rx=\"38.99\" ry=\"38.99\"/>\n<text text-anchor=\"middle\" x=\"404\" y=\"-51.3\" font-family=\"Times New Roman,serif\" font-size=\"14.00\">n14:180</text>\n</g>\n<!-- n5&#45;&gt;n14 -->\n<g id=\"edge1\" class=\"edge\">\n<title>n5&#45;&gt;n14</title>\n<path fill=\"none\" stroke=\"black\" d=\"M404,-140.82C404,-129.49 404,-116.61 404,-104.38\"/>\n<polygon fill=\"black\" stroke=\"black\" points=\"407.5,-104.3 404,-94.3 400.5,-104.3 407.5,-104.3\"/>\n</g>\n<!-- n4 -->\n<g id=\"node6\" class=\"node\">\n<title>n4</title>\n<defs>\n<linearGradient id=\"l_5\" gradientUnits=\"userSpaceOnUse\" x1=\"341.32\" y1=\"-151.12\" x2=\"292.68\" y2=\"-199.76\" >\n<stop offset=\"0\" style=\"stop-color:white;stop-opacity:1.;\"/>\n<stop offset=\"1\" style=\"stop-color:black;stop-opacity:1.;\"/>\n</linearGradient>\n</defs>\n<ellipse fill=\"url(#l_5)\" stroke=\"black\" cx=\"317\" cy=\"-175.44\" rx=\"34.39\" ry=\"34.39\"/>\n<text text-anchor=\"middle\" x=\"317\" y=\"-171.74\" font-family=\"Times New Roman,serif\" font-size=\"14.00\">n4:135</text>\n</g>\n<!-- n3 -->\n<g id=\"node7\" class=\"node\">\n<title>n3</title>\n<defs>\n<linearGradient id=\"l_6\" gradientUnits=\"userSpaceOnUse\" x1=\"234\" y1=\"-144.85\" x2=\"234\" y2=\"-206.03\" >\n<stop offset=\"0\" style=\"stop-color:white;stop-opacity:1.;\"/>\n<stop offset=\"1\" style=\"stop-color:black;stop-opacity:1.;\"/>\n</linearGradient>\n</defs>\n<ellipse fill=\"url(#l_6)\" stroke=\"black\" cx=\"234\" cy=\"-175.44\" rx=\"30.59\" ry=\"30.59\"/>\n<text text-anchor=\"middle\" x=\"234\" y=\"-171.74\" font-family=\"Times New Roman,serif\" font-size=\"14.00\">n3:90</text>\n</g>\n<!-- n2 -->\n<g id=\"node8\" class=\"node\">\n<title>n2</title>\n<defs>\n<linearGradient id=\"l_7\" gradientUnits=\"userSpaceOnUse\" x1=\"133.37\" y1=\"-153.81\" x2=\"176.63\" y2=\"-197.07\" >\n<stop offset=\"0\" style=\"stop-color:white;stop-opacity:1.;\"/>\n<stop offset=\"1\" style=\"stop-color:black;stop-opacity:1.;\"/>\n</linearGradient>\n</defs>\n<ellipse fill=\"url(#l_7)\" stroke=\"black\" cx=\"155\" cy=\"-175.44\" rx=\"30.59\" ry=\"30.59\"/>\n<text text-anchor=\"middle\" x=\"155\" y=\"-171.74\" font-family=\"Times New Roman,serif\" font-size=\"14.00\">n2:45</text>\n</g>\n<!-- n1 -->\n<g id=\"node9\" class=\"node\">\n<title>n1</title>\n<defs>\n<linearGradient id=\"l_8\" gradientUnits=\"userSpaceOnUse\" x1=\"54\" y1=\"-175.44\" x2=\"106\" y2=\"-175.44\" >\n<stop offset=\"0\" style=\"stop-color:white;stop-opacity:1.;\"/>\n<stop offset=\"1\" style=\"stop-color:black;stop-opacity:1.;\"/>\n</linearGradient>\n</defs>\n<ellipse fill=\"url(#l_8)\" stroke=\"black\" cx=\"80\" cy=\"-175.44\" rx=\"26\" ry=\"26\"/>\n<text text-anchor=\"middle\" x=\"80\" y=\"-171.74\" font-family=\"Times New Roman,serif\" font-size=\"14.00\">n1:0</text>\n</g>\n<!-- n18 -->\n<g id=\"node10\" class=\"node\">\n<title>n18</title>\n<defs>\n<radialGradient id=\"r_1\" cx=\"50%\" cy=\"50%\" r=\"75%\" fx=\"100%\" fy=\"50%\">\n<stop offset=\"0\" style=\"stop-color:white;stop-opacity:1.;\"/>\n<stop offset=\"1\" style=\"stop-color:black;stop-opacity:1.;\"/>\n</radialGradient>\n</defs>\n<ellipse fill=\"url(#r_1)\" stroke=\"black\" cx=\"788\" cy=\"-55\" rx=\"38.99\" ry=\"38.99\"/>\n<text text-anchor=\"middle\" x=\"788\" y=\"-51.3\" font-family=\"Times New Roman,serif\" font-size=\"14.00\">n18:360</text>\n</g>\n<!-- n17 -->\n<g id=\"node11\" class=\"node\">\n<title>n17</title>\n<defs>\n<radialGradient id=\"r_2\" cx=\"50%\" cy=\"50%\" r=\"75%\" fx=\"85%\" fy=\"85%\">\n<stop offset=\"0\" style=\"stop-color:white;stop-opacity:1.;\"/>\n<stop offset=\"1\" style=\"stop-color:black;stop-opacity:1.;\"/>\n</radialGradient>\n</defs>\n<ellipse fill=\"url(#r_2)\" stroke=\"black\" cx=\"692\" cy=\"-55\" rx=\"38.99\" ry=\"38.99\"/>\n<text text-anchor=\"middle\" x=\"692\" y=\"-51.3\" font-family=\"Times New Roman,serif\" font-size=\"14.00\">n17:315</text>\n</g>\n<!-- n16 -->\n<g id=\"node12\" class=\"node\">\n<title>n16</title>\n<defs>\n<radialGradient id=\"r_3\" cx=\"50%\" cy=\"50%\" r=\"75%\" fx=\"50%\" fy=\"100%\">\n<stop offset=\"0\" style=\"stop-color:white;stop-opacity:1.;\"/>\n<stop offset=\"1\" style=\"stop-color:black;stop-opacity:1.;\"/>\n</radialGradient>\n</defs>\n<ellipse fill=\"url(#r_3)\" stroke=\"black\" cx=\"596\" cy=\"-55\" rx=\"38.99\" ry=\"38.99\"/>\n<text text-anchor=\"middle\" x=\"596\" y=\"-51.3\" font-family=\"Times New Roman,serif\" font-size=\"14.00\">n16:270</text>\n</g>\n<!-- n15 -->\n<g id=\"node13\" class=\"node\">\n<title>n15</title>\n<defs>\n<radialGradient id=\"r_4\" cx=\"50%\" cy=\"50%\" r=\"75%\" fx=\"15%\" fy=\"85%\">\n<stop offset=\"0\" style=\"stop-color:white;stop-opacity:1.;\"/>\n<stop offset=\"1\" style=\"stop-color:black;stop-opacity:1.;\"/>\n</radialGradient>\n</defs>\n<ellipse fill=\"url(#r_4)\" stroke=\"black\" cx=\"500\" cy=\"-55\" rx=\"38.99\" ry=\"38.99\"/>\n<text text-anchor=\"middle\" x=\"500\" y=\"-51.3\" font-family=\"Times New Roman,serif\" font-size=\"14.00\">n15:225</text>\n</g>\n<!-- n13 -->\n<g id=\"node15\" class=\"node\">\n<title>n13</title>\n<defs>\n<radialGradient id=\"r_5\" cx=\"50%\" cy=\"50%\" r=\"75%\" fx=\"15%\" fy=\"15%\">\n<stop offset=\"0\" style=\"stop-color:white;stop-opacity:1.;\"/>\n<stop offset=\"1\" style=\"stop-color:black;stop-opacity:1.;\"/>\n</radialGradient>\n</defs>\n<ellipse fill=\"url(#r_5)\" stroke=\"black\" cx=\"308\" cy=\"-55\" rx=\"38.99\" ry=\"38.99\"/>\n<text text-anchor=\"middle\" x=\"308\" y=\"-51.3\" font-family=\"Times New Roman,serif\" font-size=\"14.00\">n13:135</text>\n</g>\n<!-- n12 -->\n<g id=\"node16\" class=\"node\">\n<title>n12</title>\n<defs>\n<radialGradient id=\"r_6\" cx=\"50%\" cy=\"50%\" r=\"75%\" fx=\"50%\" fy=\"0%\">\n<stop offset=\"0\" style=\"stop-color:white;stop-opacity:1.;\"/>\n<stop offset=\"1\" style=\"stop-color:black;stop-opacity:1.;\"/>\n</radialGradient>\n</defs>\n<ellipse fill=\"url(#r_6)\" stroke=\"black\" cx=\"217\" cy=\"-55\" rx=\"34.39\" ry=\"34.39\"/>\n<text text-anchor=\"middle\" x=\"217\" y=\"-51.3\" font-family=\"Times New Roman,serif\" font-size=\"14.00\">n12:90</text>\n</g>\n<!-- n11 -->\n<g id=\"node17\" class=\"node\">\n<title>n11</title>\n<defs>\n<radialGradient id=\"r_7\" cx=\"50%\" cy=\"50%\" r=\"75%\" fx=\"85%\" fy=\"15%\">\n<stop offset=\"0\" style=\"stop-color:white;stop-opacity:1.;\"/>\n<stop offset=\"1\" style=\"stop-color:black;stop-opacity:1.;\"/>\n</radialGradient>\n</defs>\n<ellipse fill=\"url(#r_7)\" stroke=\"black\" cx=\"130\" cy=\"-55\" rx=\"34.39\" ry=\"34.39\"/>\n<text text-anchor=\"middle\" x=\"130\" y=\"-51.3\" font-family=\"Times New Roman,serif\" font-size=\"14.00\">n11:45</text>\n</g>\n<!-- n10 -->\n<g id=\"node18\" class=\"node\">\n<title>n10</title>\n<defs>\n<radialGradient id=\"r_8\" cx=\"50%\" cy=\"50%\" r=\"75%\" fx=\"50%\" fy=\"50%\">\n<stop offset=\"0\" style=\"stop-color:white;stop-opacity:1.;\"/>\n<stop offset=\"1\" style=\"stop-color:black;stop-opacity:1.;\"/>\n</radialGradient>\n</defs>\n<ellipse fill=\"url(#r_8)\" stroke=\"black\" cx=\"47\" cy=\"-55\" rx=\"30.59\" ry=\"30.59\"/>\n<text text-anchor=\"middle\" x=\"47\" y=\"-51.3\" font-family=\"Times New Roman,serif\" font-size=\"14.00\">n10:0</text>\n</g>\n</g>\n</svg>\n",
      "text/plain": [
       "<graphviz.graphs.Digraph at 0x1e0deac3580>"
      ]
     },
     "execution_count": 29,
     "metadata": {},
     "output_type": "execute_result"
    }
   ],
   "source": [
    "from graphviz import Digraph\n",
    "\n",
    "g = Digraph('G', filename='angles.gv')\n",
    "g.attr(bgcolor='blue')\n",
    "\n",
    "with g.subgraph(name='cluster_1') as c:\n",
    "    c.attr(fontcolor='white')\n",
    "    c.attr('node', shape='circle', style='filled', fillcolor='white:black',\n",
    "           gradientangle='360', label='n9:360', fontcolor='black')\n",
    "    c.node('n9')\n",
    "    for i, a in zip(range(8, 0, -1), range(360 - 45, -1, -45)):\n",
    "        c.attr('node', gradientangle='%d' % a, label='n%d:%d' % (i, a))\n",
    "        c.node('n%d' % i)\n",
    "    c.attr(label='Linear Angle Variations (white to black gradient)')\n",
    "\n",
    "with g.subgraph(name='cluster_2') as c:\n",
    "    c.attr(fontcolor='white')\n",
    "    c.attr('node', shape='circle', style='radial', fillcolor='white:black',\n",
    "           gradientangle='360', label='n18:360', fontcolor='black')\n",
    "    c.node('n18')\n",
    "    for i, a in zip(range(17, 9, -1), range(360 - 45, -1, -45)):\n",
    "        c.attr('node', gradientangle='%d' % a, label='n%d:%d' % (i, a))\n",
    "        c.node('n%d' % i)\n",
    "    c.attr(label='Radial Angle Variations (white to black gradient)')\n",
    "\n",
    "g.edge('n5', 'n14')\n",
    "\n",
    "g"
   ]
  },
  {
   "cell_type": "code",
   "execution_count": 30,
   "metadata": {},
   "outputs": [
    {
     "data": {
      "text/plain": [
       "['Salary.joblib']"
      ]
     },
     "execution_count": 30,
     "metadata": {},
     "output_type": "execute_result"
    }
   ],
   "source": [
    " #how to train and save your model\n",
    "import pandas as pd\n",
    "from sklearn.tree import DecisionTreeClassifier\n",
    "import joblib\n",
    "model =DecisionTreeClassifier().fit(x,y)\n",
    "joblib.dump(model,'Salary.joblib')\n",
    "\n"
   ]
  },
  {
   "cell_type": "code",
   "execution_count": 31,
   "metadata": {},
   "outputs": [],
   "source": [
    "#how to import /run  a stored or saved model on our data??\n"
   ]
  },
  {
   "cell_type": "code",
   "execution_count": 40,
   "metadata": {},
   "outputs": [
    {
     "ename": "ValueError",
     "evalue": "Length of feature_names, 10 does not match number of features, 1",
     "output_type": "error",
     "traceback": [
      "\u001b[1;31m---------------------------------------------------------------------------\u001b[0m",
      "\u001b[1;31mValueError\u001b[0m                                Traceback (most recent call last)",
      "\u001b[1;32mc:\\Users\\Bs Com\\OneDrive\\Desktop\\machine_learning\\decision tree\\decision_tree.ipynb Cell 32\u001b[0m in \u001b[0;36m<cell line: 5>\u001b[1;34m()\u001b[0m\n\u001b[0;32m      <a href='vscode-notebook-cell:/c%3A/Users/Bs%20Com/OneDrive/Desktop/machine_learning/decision%20tree/decision_tree.ipynb#X42sZmlsZQ%3D%3D?line=2'>3</a>\u001b[0m model\u001b[39m=\u001b[39mDecisionTreeClassifier()\u001b[39m.\u001b[39mfit(x,y)\n\u001b[0;32m      <a href='vscode-notebook-cell:/c%3A/Users/Bs%20Com/OneDrive/Desktop/machine_learning/decision%20tree/decision_tree.ipynb#X42sZmlsZQ%3D%3D?line=3'>4</a>\u001b[0m \u001b[39m#graphic evaluation/look into what happened\u001b[39;00m\n\u001b[1;32m----> <a href='vscode-notebook-cell:/c%3A/Users/Bs%20Com/OneDrive/Desktop/machine_learning/decision%20tree/decision_tree.ipynb#X42sZmlsZQ%3D%3D?line=4'>5</a>\u001b[0m tree\u001b[39m.\u001b[39;49mexport_graphviz(model,\n\u001b[0;32m      <a href='vscode-notebook-cell:/c%3A/Users/Bs%20Com/OneDrive/Desktop/machine_learning/decision%20tree/decision_tree.ipynb#X42sZmlsZQ%3D%3D?line=5'>6</a>\u001b[0m                      out_file\u001b[39m=\u001b[39;49m\u001b[39mstr\u001b[39;49m(\u001b[39m\"\u001b[39;49m\u001b[39mGender.dot\u001b[39;49m\u001b[39m\"\u001b[39;49m),\n\u001b[0;32m      <a href='vscode-notebook-cell:/c%3A/Users/Bs%20Com/OneDrive/Desktop/machine_learning/decision%20tree/decision_tree.ipynb#X42sZmlsZQ%3D%3D?line=6'>7</a>\u001b[0m                      feature_names\u001b[39m=\u001b[39;49m\u001b[39mstr\u001b[39;49m([\u001b[39m'\u001b[39;49m\u001b[39mGender\u001b[39;49m\u001b[39m'\u001b[39;49m]),\n\u001b[0;32m      <a href='vscode-notebook-cell:/c%3A/Users/Bs%20Com/OneDrive/Desktop/machine_learning/decision%20tree/decision_tree.ipynb#X42sZmlsZQ%3D%3D?line=7'>8</a>\u001b[0m                      class_names\u001b[39m=\u001b[39;49m\u001b[39mstr\u001b[39;49m(\u001b[39msorted\u001b[39;49m(x\u001b[39m.\u001b[39;49mnunique())),\n\u001b[0;32m      <a href='vscode-notebook-cell:/c%3A/Users/Bs%20Com/OneDrive/Desktop/machine_learning/decision%20tree/decision_tree.ipynb#X42sZmlsZQ%3D%3D?line=8'>9</a>\u001b[0m                      label\u001b[39m=\u001b[39;49m\u001b[39m'\u001b[39;49m\u001b[39mall\u001b[39;49m\u001b[39m'\u001b[39;49m, \n\u001b[0;32m     <a href='vscode-notebook-cell:/c%3A/Users/Bs%20Com/OneDrive/Desktop/machine_learning/decision%20tree/decision_tree.ipynb#X42sZmlsZQ%3D%3D?line=9'>10</a>\u001b[0m                      rounded\u001b[39m=\u001b[39;49m\u001b[39mTrue\u001b[39;49;00m,\n\u001b[0;32m     <a href='vscode-notebook-cell:/c%3A/Users/Bs%20Com/OneDrive/Desktop/machine_learning/decision%20tree/decision_tree.ipynb#X42sZmlsZQ%3D%3D?line=10'>11</a>\u001b[0m                      filled\u001b[39m=\u001b[39;49m\u001b[39mTrue\u001b[39;49;00m)\n",
      "File \u001b[1;32m~\\AppData\\Roaming\\Python\\Python310\\site-packages\\sklearn\\tree\\_export.py:889\u001b[0m, in \u001b[0;36mexport_graphviz\u001b[1;34m(decision_tree, out_file, max_depth, feature_names, class_names, label, filled, leaves_parallel, impurity, node_ids, proportion, rotate, rounded, special_characters, precision, fontname)\u001b[0m\n\u001b[0;32m    870\u001b[0m     out_file \u001b[39m=\u001b[39m StringIO()\n\u001b[0;32m    872\u001b[0m exporter \u001b[39m=\u001b[39m _DOTTreeExporter(\n\u001b[0;32m    873\u001b[0m     out_file\u001b[39m=\u001b[39mout_file,\n\u001b[0;32m    874\u001b[0m     max_depth\u001b[39m=\u001b[39mmax_depth,\n\u001b[1;32m   (...)\u001b[0m\n\u001b[0;32m    887\u001b[0m     fontname\u001b[39m=\u001b[39mfontname,\n\u001b[0;32m    888\u001b[0m )\n\u001b[1;32m--> 889\u001b[0m exporter\u001b[39m.\u001b[39;49mexport(decision_tree)\n\u001b[0;32m    891\u001b[0m \u001b[39mif\u001b[39;00m return_string:\n\u001b[0;32m    892\u001b[0m     \u001b[39mreturn\u001b[39;00m exporter\u001b[39m.\u001b[39mout_file\u001b[39m.\u001b[39mgetvalue()\n",
      "File \u001b[1;32m~\\AppData\\Roaming\\Python\\Python310\\site-packages\\sklearn\\tree\\_export.py:452\u001b[0m, in \u001b[0;36m_DOTTreeExporter.export\u001b[1;34m(self, decision_tree)\u001b[0m\n\u001b[0;32m    450\u001b[0m \u001b[39mif\u001b[39;00m \u001b[39mself\u001b[39m\u001b[39m.\u001b[39mfeature_names \u001b[39mis\u001b[39;00m \u001b[39mnot\u001b[39;00m \u001b[39mNone\u001b[39;00m:\n\u001b[0;32m    451\u001b[0m     \u001b[39mif\u001b[39;00m \u001b[39mlen\u001b[39m(\u001b[39mself\u001b[39m\u001b[39m.\u001b[39mfeature_names) \u001b[39m!=\u001b[39m decision_tree\u001b[39m.\u001b[39mn_features_in_:\n\u001b[1;32m--> 452\u001b[0m         \u001b[39mraise\u001b[39;00m \u001b[39mValueError\u001b[39;00m(\n\u001b[0;32m    453\u001b[0m             \u001b[39m\"\u001b[39m\u001b[39mLength of feature_names, \u001b[39m\u001b[39m%d\u001b[39;00m\u001b[39m does not match number of features, \u001b[39m\u001b[39m%d\u001b[39;00m\u001b[39m\"\u001b[39m\n\u001b[0;32m    454\u001b[0m             \u001b[39m%\u001b[39m (\u001b[39mlen\u001b[39m(\u001b[39mself\u001b[39m\u001b[39m.\u001b[39mfeature_names), decision_tree\u001b[39m.\u001b[39mn_features_in_)\n\u001b[0;32m    455\u001b[0m         )\n\u001b[0;32m    456\u001b[0m \u001b[39m# each part writes to out_file\u001b[39;00m\n\u001b[0;32m    457\u001b[0m \u001b[39mself\u001b[39m\u001b[39m.\u001b[39mhead()\n",
      "\u001b[1;31mValueError\u001b[0m: Length of feature_names, 10 does not match number of features, 1"
     ]
    }
   ],
   "source": [
    "#graph\n",
    "from sklearn import tree\n",
    "\n",
    "model=DecisionTreeClassifier().fit(x,y)\n",
    "#graphic evaluation/look into what happened\n",
    "tree.export_graphviz(model,\n",
    "                     out_file=str(\"Gender.dot\"),\n",
    "                     feature_names=str(['Gender']),\n",
    "                     class_names=str(sorted(x.nunique())),\n",
    "                     label='all', \n",
    "                     rounded=True,\n",
    "                     filled=True)\n"
   ]
  }
 ],
 "metadata": {
  "kernelspec": {
   "display_name": "Python 3.10.4 64-bit",
   "language": "python",
   "name": "python3"
  },
  "language_info": {
   "codemirror_mode": {
    "name": "ipython",
    "version": 3
   },
   "file_extension": ".py",
   "mimetype": "text/x-python",
   "name": "python",
   "nbconvert_exporter": "python",
   "pygments_lexer": "ipython3",
   "version": "3.10.4"
  },
  "orig_nbformat": 4,
  "vscode": {
   "interpreter": {
    "hash": "26de051ba29f2982a8de78e945f0abaf191376122a1563185a90213a26c5da77"
   }
  }
 },
 "nbformat": 4,
 "nbformat_minor": 2
}
